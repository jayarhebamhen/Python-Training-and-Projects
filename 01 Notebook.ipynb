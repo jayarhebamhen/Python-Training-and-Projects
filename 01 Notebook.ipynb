{
 "cells": [
  {
   "cell_type": "code",
   "execution_count": 1,
   "metadata": {},
   "outputs": [
    {
     "name": "stdout",
     "output_type": "stream",
     "text": [
      "-4\n",
      "4\n"
     ]
    }
   ],
   "source": [
    "# Calculating Numbers with Functions\n",
    "x = -4\n",
    "y = abs(x)\n",
    "print(x)\n",
    "print(y)\n"
   ]
  },
  {
   "cell_type": "code",
   "execution_count": 2,
   "metadata": {},
   "outputs": [
    {
     "name": "stdout",
     "output_type": "stream",
     "text": [
      "1.2345678909876543\n",
      "1.23\n"
     ]
    }
   ],
   "source": [
    "# Calculating Numbers with Functions\n",
    "x = 1.23456789098765432100000001\n",
    "y = round (x,2)\n",
    "print(x)\n",
    "print(y)\n"
   ]
  },
  {
   "cell_type": "code",
   "execution_count": 3,
   "metadata": {},
   "outputs": [
    {
     "name": "stdout",
     "output_type": "stream",
     "text": [
      "999.9999\n",
      "-999\n",
      "999\n",
      "3.1416\n",
      "0b10000000\n",
      "0x80\n",
      "0o200\n",
      "128\n",
      "-999.9999\n",
      "<class 'float'>\n",
      "<class 'int'>\n",
      "<class 'str'>\n"
     ]
    }
   ],
   "source": [
    "# Calculating Numbers with Functions\n",
    "pi = 3.14159265358979\n",
    "x = 128\n",
    "y = -345.67890987\n",
    "z = -999.9999\n",
    "print(abs(z))\n",
    "print(int(z))\n",
    "print(int(abs(z)))\n",
    "print(round(pi,4))\n",
    "print(bin(x))\n",
    "print(hex(x))\n",
    "print(oct(x))\n",
    "print(max(pi,x,y,z))\n",
    "print(min(pi,x,y,z))\n",
    "print(type(pi))\n",
    "print(type(x))\n",
    "print(type(str(y)))"
   ]
  },
  {
   "cell_type": "code",
   "execution_count": 4,
   "metadata": {},
   "outputs": [
    {
     "name": "stdout",
     "output_type": "stream",
     "text": [
      "9.0\n"
     ]
    }
   ],
   "source": [
    "# Math Functions\n",
    "import math\n",
    "z = 81\n",
    "print(math.sqrt(z))\n"
   ]
  },
  {
   "cell_type": "code",
   "execution_count": 5,
   "metadata": {},
   "outputs": [
    {
     "name": "stdout",
     "output_type": "stream",
     "text": [
      "3.141592653589793\n",
      "2.718281828459045\n",
      "6.283185307179586\n",
      "9.0\n",
      "5040\n",
      "-23235\n",
      "401.07045659157626\n",
      "0.7853981633974483\n"
     ]
    }
   ],
   "source": [
    "# More math fuctions. calculating Numbers with Functions. \n",
    "# Syntax variablename = function_name([param,param])\n",
    "import math\n",
    "pi = math.pi\n",
    "e = math.e\n",
    "tau = math.tau\n",
    "x = 81\n",
    "y = 7\n",
    "z = -23234.5454\n",
    "print(pi)\n",
    "print(e)\n",
    "print(tau)\n",
    "print(math.sqrt(x))\n",
    "print(math.factorial(y))\n",
    "print(math.floor(z))\n",
    "print(math.degrees(y))\n",
    "print(math.radians(45))"
   ]
  },
  {
   "cell_type": "code",
   "execution_count": 9,
   "metadata": {},
   "outputs": [
    {
     "name": "stdout",
     "output_type": "stream",
     "text": [
      "Hello Justin\n",
      "Subtotal: $1499.7\n",
      "Subtotal: $1,499.7\n",
      "Subtotal: $1,499.70\n"
     ]
    }
   ],
   "source": [
    "# Formatting with f-strings\n",
    "username = \"Justin\"\n",
    "print(f\"Hello {username}\")\n",
    "\n",
    "unit_price = 49.99\n",
    "quantity = 30\n",
    "print(f\"Subtotal: ${quantity * unit_price}\")\n",
    "\n",
    "# Showing dollar amounts, comma and 2 decimal places\n",
    "print(f\"Subtotal: ${quantity * unit_price:,}\")\n",
    "print(f\"Subtotal: ${quantity * unit_price:,.2f}\")\n",
    "\n"
   ]
  },
  {
   "cell_type": "code",
   "execution_count": 12,
   "metadata": {},
   "outputs": [
    {
     "name": "stdout",
     "output_type": "stream",
     "text": [
      "Sales Tax Rate 0.065\n",
      "Sales Tax Rate 6.50%\n",
      "Sales Tax Rate: 6.50%\n",
      "Sales Tax Rate: 6.50%\n",
      "Sales Tax Rate: 6.50%\n",
      "Sales Tax Rate: 6.50%\n"
     ]
    }
   ],
   "source": [
    "# Formatting percent numbers with f-strings\n",
    "sales_tax_rate = 0.065\n",
    "print(f\"Sales Tax Rate {sales_tax_rate}\")\n",
    "\n",
    "print(f\"Sales Tax Rate {sales_tax_rate:.2%}\")\n",
    "\n",
    "sample1 = f'Sales Tax Rate: {sales_tax_rate:.2%}'\n",
    "sample2 = f\"Sales Tax Rate: {sales_tax_rate:.2%}\"\n",
    "sample3 = f\"\"\"Sales Tax Rate: {sales_tax_rate:.2%}\"\"\"\n",
    "sample4 = f'''Sales Tax Rate: {sales_tax_rate:.2%}'''\n",
    "\n",
    "print(sample1)\n",
    "print(sample2)\n",
    "print(sample3)\n",
    "print(sample4)\n"
   ]
  },
  {
   "cell_type": "code",
   "execution_count": 16,
   "metadata": {},
   "outputs": [
    {
     "name": "stdout",
     "output_type": "stream",
     "text": [
      "\n",
      "Subtotal: $1,598.40\n",
      "Sales Tax: $103.90\n",
      "Total: $1,702.30\n",
      "\n",
      "\n",
      "Subtotal: $1,598.40\n",
      "Sales Tax:   $103.90\n",
      "Total: $1,702.30\n",
      "\n"
     ]
    }
   ],
   "source": [
    "# A multiline f-string enclosed in triple quotation marks.\n",
    "unit_price = 49.95\n",
    "quantity = 32\n",
    "sales_tax_rate = 0.065\n",
    "subtotal = quantity * unit_price\n",
    "sales_tax = sales_tax_rate * subtotal\n",
    "total = subtotal + sales_tax\n",
    "output = f\"\"\"\n",
    "Subtotal: ${subtotal:,.2f}\n",
    "Sales Tax: ${sales_tax:,.2f}\n",
    "Total: ${total:,.2f}\n",
    "\"\"\"\n",
    "print(output)\n",
    "\n",
    "# Format amounts to show as string with leading dollar sign\n",
    "s_subtotal = \"$\" + f\"{subtotal:,.2f}\"\n",
    "s_sales_tax = \"$\" + f\"{sales_tax:,.2f}\"\n",
    "s_total = \"$\" + f\"{total:,.2f}\"\n",
    "\n",
    "# Output the string with dollar signs already attached\n",
    "output =f\"\"\"\n",
    "Subtotal: {s_subtotal:>9}\n",
    "Sales Tax: {s_sales_tax:>9}\n",
    "Total: {s_total:>9}\n",
    "\"\"\"\n",
    "\n",
    "print(output)"
   ]
  },
  {
   "cell_type": "code",
   "execution_count": 4,
   "metadata": {},
   "outputs": [
    {
     "name": "stdout",
     "output_type": "stream",
     "text": [
      "Justin E. Arhebamhen\n",
      "Justin E. Arhebamhen\n",
      "True\n",
      "False\n",
      "True\n",
      "---------------\n",
      "A\n",
      "turtle\n",
      "AadrHuPuy' tt v\n",
      " \n",
      "y\n",
      "25\n",
      "5\n"
     ]
    }
   ],
   "source": [
    "# Concatenating strings\n",
    "first_name = \"Justin\"\n",
    "middle_init = \"E\"\n",
    "last_name = \"Arhebamhen\"\n",
    "full_name = first_name + \" \" + middle_init + \". \" + last_name\n",
    "print(full_name)\n",
    "\n",
    "print(f\"{'Justin'} {'E'}. {'Arhebamhen'}\")\n",
    "\n",
    "s = \"Abracadabra Hocus Pocus you're a turtle dove\"\n",
    "# Is there a lowercase letter t is contained in s?\n",
    "print(\"t\" in s)\n",
    "# Is there an uppercase letter t is contained in s?\n",
    "print(\"T\" in s)\n",
    "#Is there no uppercase T i s?\n",
    "print(\"T\" not in s)\n",
    "# Print 15 hyphens in a row\n",
    "print(\"-\" * 15)\n",
    "# Print first character in string s\n",
    "print(s[0])\n",
    "# Print characters 33 - 39 from string s\n",
    "print(s[33:39])\n",
    "# Print every third character in s starting at zero\n",
    "print(s[0:44:3])\n",
    "# Print lowest character in s (a space is lower than the letter a)\n",
    "print(min(s))\n",
    "# Print the highest character in s\n",
    "print(max(s))\n",
    "# Where is the first lowercase o in the latter half of string s\n",
    "# Note that the returned value still starts counting from zero\n",
    "print(s.index(\"o\",22,44))\n",
    "# How many lowercase letters a are in string s?\n",
    "print(s.count(\"a\"))\n"
   ]
  },
  {
   "cell_type": "code",
   "execution_count": 8,
   "metadata": {},
   "outputs": [
    {
     "name": "stdout",
     "output_type": "stream",
     "text": [
      "Abc\n",
      "6\n",
      "True\n",
      "abc\n",
      "a b c   \n",
      "a b c\n",
      "tHERE IS NO SUCH WORD AS SCHMEEDLEDORP\n",
      "There Is No Such Word As Schmeedledorp\n",
      "THERE IS NO SUCH WORD AS SCHMEEDLEDORP\n"
     ]
    }
   ],
   "source": [
    "# Playing around with Python string functions\n",
    "s1 = \"There is no such word as schmeedledorp\"\n",
    "s2 = \"   a b c   \"\n",
    "s3 = \"ABC\"\n",
    "# Capitalize first letter, the rest lowercase\n",
    "print(s3.capitalize())\n",
    "# Count the number of spaces in s1\n",
    "print(s1.count(\" \"))\n",
    "# Is s2 all lowercase letters?\n",
    "print(s2.islower())\n",
    "# Convert s3 to all lowercase\n",
    "print(s3.lower())\n",
    "# String leading and trailing characters from s2\n",
    "print(s2.lstrip())\n",
    "# String leading characters from s2\n",
    "print(s2.strip())\n",
    "# Swap the case of letters in s1\n",
    "print(s1.swapcase())\n",
    "# Show s1 in title case (initial caps)\n",
    "print(s1.title())\n",
    "# Show s1 uppercase\n",
    "print(s1.upper())\n",
    "\n",
    "\n"
   ]
  },
  {
   "cell_type": "code",
   "execution_count": 14,
   "metadata": {},
   "outputs": [
    {
     "name": "stdout",
     "output_type": "stream",
     "text": [
      "2024-05-31\n",
      "2019-12-31\n",
      "12\n",
      "31\n",
      "2019\n",
      "Tuesday, December 31, 2019\n",
      "05/31/2024\n"
     ]
    }
   ],
   "source": [
    "# Working with dates\n",
    "# Import the datetime module and give it an alias of dt\n",
    "import datetime as dt\n",
    "# Put today's date in today variable\n",
    "today = dt.date.today()\n",
    "# Put another date in last_of_teens\n",
    "last_of_teens = dt.date(2019, 12, 31)\n",
    "\n",
    "# See what's in each variable\n",
    "print(today)\n",
    "print(last_of_teens)\n",
    "print(last_of_teens.month)\n",
    "print(last_of_teens.day)\n",
    "print(last_of_teens.year)\n",
    "\n",
    "# Formatting strings for Dates and Times\n",
    "print(f\"{last_of_teens:%A, %B %d, %Y}\")\n",
    "# To show the date in the mm/dd/yyyy format\n",
    "todays_date = print(f\"{today:%m/%d/%Y}\")\n"
   ]
  },
  {
   "cell_type": "code",
   "execution_count": null,
   "metadata": {},
   "outputs": [],
   "source": []
  }
 ],
 "metadata": {
  "kernelspec": {
   "display_name": "Python 3",
   "language": "python",
   "name": "python3"
  },
  "language_info": {
   "codemirror_mode": {
    "name": "ipython",
    "version": 3
   },
   "file_extension": ".py",
   "mimetype": "text/x-python",
   "name": "python",
   "nbconvert_exporter": "python",
   "pygments_lexer": "ipython3",
   "version": "3.12.3"
  }
 },
 "nbformat": 4,
 "nbformat_minor": 2
}
